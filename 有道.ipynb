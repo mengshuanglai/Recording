{
 "cells": [
  {
   "cell_type": "code",
   "execution_count": 2,
   "metadata": {},
   "outputs": [
    {
     "name": "stdout",
     "output_type": "stream",
     "text": [
      "本程序调用有道词典的API进行翻译，可达到以下效果：\n",
      "外文-->中文\n",
      "中文-->英文\n",
      "请输入你想要翻译的词或句：ok\n",
      "输入的词为：ok\n",
      "翻译结果为：好吧\n",
      "请输入你想要翻译的词或句：edt\n",
      "输入的词为：edt\n",
      "翻译结果为：美国东部时间\n",
      "请输入你想要翻译的词或句：ok\n",
      "输入的词为：ok\n",
      "翻译结果为：好吧\n",
      "请输入你想要翻译的词或句：好的\n",
      "输入的词为：好的\n",
      "翻译结果为：good\n",
      "请输入你想要翻译的词或句：你的意思呢\n",
      "输入的词为：你的意思呢\n",
      "翻译结果为：Do you mean?\n",
      "请输入你想要翻译的词或句：你的意思是？\n",
      "输入的词为：你的意思是？\n",
      "翻译结果为：What do you mean?\n",
      "请输入你想要翻译的词或句：exit\n"
     ]
    }
   ],
   "source": [
    "import json\n",
    "\n",
    "import requests\n",
    "\n",
    "# 翻译函数，word 需要翻译的内容\n",
    "def translate(word):\n",
    "    # 有道词典 api\n",
    "    url = 'http://fanyi.youdao.com/translate?smartresult=dict&smartresult=rule&smartresult=ugc&sessionFrom=null'\n",
    "    # 传输的参数，其中 i 为需要翻译的内容\n",
    "    key = {\n",
    "        'type': \"AUTO\",\n",
    "        'i': word,\n",
    "        \"doctype\": \"json\",\n",
    "        \"version\": \"2.1\",\n",
    "        \"keyfrom\": \"fanyi.web\",\n",
    "        \"ue\": \"UTF-8\",\n",
    "        \"action\": \"FY_BY_CLICKBUTTON\",\n",
    "        \"typoResult\": \"true\"\n",
    "    }\n",
    "    # key 这个字典为发送给有道词典服务器的内容\n",
    "    response = requests.post(url, data=key)\n",
    "    # 判断服务器是否相应成功\n",
    "    if response.status_code == 200:\n",
    "        # 然后相应的结果\n",
    "        return response.text\n",
    "    else:\n",
    "        print(\"有道词典调用失败\")\n",
    "        # 相应失败就返回空\n",
    "        return None\n",
    "\n",
    "def get_reuslt(repsonse):\n",
    "    # 通过 json.loads 把返回的结果加载成 json 格式\n",
    "    result = json.loads(repsonse)\n",
    "    print (\"输入的词为：%s\" % result['translateResult'][0][0]['src'])\n",
    "    print (\"翻译结果为：%s\" % result['translateResult'][0][0]['tgt'])\n",
    "\n",
    "def main():\n",
    "    print(\"本程序调用有道词典的API进行翻译，可达到以下效果：\")\n",
    "    print(\"外文-->中文\")\n",
    "    print(\"中文-->英文\")\n",
    "    word = input('请输入你想要翻译的词或句：')\n",
    "    while word!=\"exit\" :        \n",
    "        list_trans = translate(word)\n",
    "        get_reuslt(list_trans)\n",
    "        word = input('请输入你想要翻译的词或句：')\n",
    "        \n",
    "if __name__ == '__main__':\n",
    "    main()"
   ]
  },
  {
   "cell_type": "code",
   "execution_count": null,
   "metadata": {},
   "outputs": [],
   "source": []
  }
 ],
 "metadata": {
  "kernelspec": {
   "display_name": "Python 3",
   "language": "python",
   "name": "python3"
  },
  "language_info": {
   "codemirror_mode": {
    "name": "ipython",
    "version": 3
   },
   "file_extension": ".py",
   "mimetype": "text/x-python",
   "name": "python",
   "nbconvert_exporter": "python",
   "pygments_lexer": "ipython3",
   "version": "3.6.5"
  }
 },
 "nbformat": 4,
 "nbformat_minor": 2
}
